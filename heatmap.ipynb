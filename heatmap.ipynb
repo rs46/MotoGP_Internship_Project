{
 "cells": [
  {
   "cell_type": "markdown",
   "metadata": {},
   "source": [
    "## 1. heatmap - passing count and passed count \n",
    "## 2. heatmap - passing positions vs passing quarter (time)"
   ]
  },
  {
   "cell_type": "markdown",
   "metadata": {},
   "source": [
    "### import all racing data from 2015 to 2019"
   ]
  },
  {
   "cell_type": "code",
   "execution_count": 1,
   "metadata": {},
   "outputs": [],
   "source": [
    "import pandas as pd\n",
    "import os\n",
    "import glob\n",
    "\n",
    "path = '/Users/Zheng/Desktop/Zhao Yongyi - 104A HW/race_data/all_races_15to19'\n",
    "extension = 'xlsx'\n",
    "os.chdir(path)\n",
    "result = [i for i in glob.glob('*.{}'.format(extension))]\n",
    "\n",
    "a = {elm:pd.ExcelFile(elm) for elm in result}\n",
    "\n",
    "file_storage = [] # a list to store all files\n",
    "file_names = list(a.keys()) # a list of file names\n",
    "for i in range(len(file_names)):\n",
    "    file_storage.append(pd.read_excel(file_names[i]).drop('Pos', axis = 1).transpose())"
   ]
  },
  {
   "cell_type": "markdown",
   "metadata": {},
   "source": [
    "### define helper function"
   ]
  },
  {
   "cell_type": "code",
   "execution_count": 2,
   "metadata": {},
   "outputs": [],
   "source": [
    "# help functions (辅助函数)\n",
    "# 1. \n",
    "def lap_to_quarter(fraction):\n",
    "    if fraction<=0.25:\n",
    "        return 1\n",
    "    if (fraction>0.25) & (fraction<=0.5):\n",
    "        return 2\n",
    "    if (fraction>0.5) & (fraction<=0.75):\n",
    "        return 3\n",
    "    if (fraction>0.75) & (fraction<=1):\n",
    "        return 4\n",
    "\n",
    "# 2.\n",
    "def merge(list1, list2): \n",
    "    merged_list = [(list1[i], list2[i]) for i in range(0, len(list1))] \n",
    "    return merged_list "
   ]
  },
  {
   "cell_type": "markdown",
   "metadata": {},
   "source": [
    "### track rider position, passing position, passing time & being passed position..."
   ]
  },
  {
   "cell_type": "code",
   "execution_count": 4,
   "metadata": {},
   "outputs": [],
   "source": [
    "# predator\n",
    "k = len(file_storage) # 80 files in total\n",
    "position_list = [] # store Rossi's all position\n",
    "passing_position_list = [] # store all his passing positions\n",
    "passing_time_list = [] # store all his passing time\n",
    "pair_list = []  # a pair of passing position vs time\n",
    "passing_count_list = [] # a list of counting the total number of passing for each race \n",
    "\n",
    "rider_number = 46 # try a single rider first, then try to generalize\n",
    "\n",
    "passed_position_track = [] # for prey\n",
    "passed_time_track = [] # for prey\n",
    "passed_count_list = [] # for prey\n",
    "\n",
    "for i in range(k):\n",
    "    df = file_storage[i]\n",
    "    total_laps = df.shape[1]\n",
    "    position_track = []\n",
    "    for j in range(total_laps):\n",
    "        if rider_number in list(df[j]): # check if the rider has already fell off\n",
    "            position_track.append(list(df[j]).index(rider_number)+1)\n",
    "    \n",
    "    passing_position_track = [] # passing position track\n",
    "    passing_time_track = [] # passing time track\n",
    "    \n",
    "    # predator\n",
    "    for l in range(len(position_track)-1):\n",
    "        fraction = l/total_laps\n",
    "        if position_track[l] > position_track[l+1]:\n",
    "            passing_position_track.append(position_track[l])\n",
    "            passing_time_track.append(lap_to_quarter(fraction))\n",
    "    position_list = position_list + position_track\n",
    "    passing_position_list = passing_position_list + passing_position_track\n",
    "    passing_time_list = passing_time_list + passing_time_track\n",
    "    pair_list = merge(passing_position_list, passing_time_list)\n",
    "    \n",
    "    passing_count_list.append(len(passing_position_track)) # count the number of passing in a race\n",
    "    \n",
    "    passed_position_track = []\n",
    "    passed_time_track = []\n",
    "    \n",
    "    # prey\n",
    "    for l in range(len(position_track)-1):\n",
    "        fraction = l/total_laps\n",
    "        if position_track[l] < position_track[l+1]:\n",
    "            passed_position_track.append(position_track[l])\n",
    "            passed_time_track.append(lap_to_quarter(fraction))\n",
    "    passed_count_list.append(len(passed_position_track))"
   ]
  },
  {
   "cell_type": "markdown",
   "metadata": {},
   "source": [
    "### display position_count from 2015 to 2019"
   ]
  },
  {
   "cell_type": "code",
   "execution_count": 38,
   "metadata": {},
   "outputs": [
    {
     "data": {
      "text/html": [
       "<div>\n",
       "<style scoped>\n",
       "    .dataframe tbody tr th:only-of-type {\n",
       "        vertical-align: middle;\n",
       "    }\n",
       "\n",
       "    .dataframe tbody tr th {\n",
       "        vertical-align: top;\n",
       "    }\n",
       "\n",
       "    .dataframe thead th {\n",
       "        text-align: right;\n",
       "    }\n",
       "</style>\n",
       "<table border=\"1\" class=\"dataframe\">\n",
       "  <thead>\n",
       "    <tr style=\"text-align: right;\">\n",
       "      <th></th>\n",
       "      <th>passing_position</th>\n",
       "      <th>counts</th>\n",
       "    </tr>\n",
       "  </thead>\n",
       "  <tbody>\n",
       "    <tr>\n",
       "      <th>2</th>\n",
       "      <td>3</td>\n",
       "      <td>406</td>\n",
       "    </tr>\n",
       "    <tr>\n",
       "      <th>1</th>\n",
       "      <td>2</td>\n",
       "      <td>338</td>\n",
       "    </tr>\n",
       "    <tr>\n",
       "      <th>3</th>\n",
       "      <td>4</td>\n",
       "      <td>296</td>\n",
       "    </tr>\n",
       "    <tr>\n",
       "      <th>0</th>\n",
       "      <td>1</td>\n",
       "      <td>209</td>\n",
       "    </tr>\n",
       "    <tr>\n",
       "      <th>4</th>\n",
       "      <td>5</td>\n",
       "      <td>147</td>\n",
       "    </tr>\n",
       "  </tbody>\n",
       "</table>\n",
       "</div>"
      ],
      "text/plain": [
       "   passing_position  counts\n",
       "2                 3     406\n",
       "1                 2     338\n",
       "3                 4     296\n",
       "0                 1     209\n",
       "4                 5     147"
      ]
     },
     "execution_count": 38,
     "metadata": {},
     "output_type": "execute_result"
    }
   ],
   "source": [
    "df = pd.DataFrame(position_list)\n",
    "df.columns = ['passing_position']\n",
    "df = df.groupby('passing_position').size().reset_index(name='counts')\n",
    "df.sort_values(by=['counts'], ascending = False).head()"
   ]
  },
  {
   "cell_type": "code",
   "execution_count": 21,
   "metadata": {},
   "outputs": [
    {
     "name": "stdout",
     "output_type": "stream",
     "text": [
      "[(3, 406), (2, 338), (4, 296), (1, 209), (5, 147), (6, 112), (8, 109), (9, 89), (7, 80), (10, 33), (11, 20), (12, 12), (13, 11), (18, 6), (19, 5), (14, 4), (15, 3), (16, 3), (21, 2), (26, 1), (17, 1), (22, 1)]\n"
     ]
    }
   ],
   "source": [
    "# single rider test\n",
    "\n",
    "import matplotlib.pyplot as plt\n",
    "import numpy as np=\n",
    "\n",
    "# count of elements in order.\n",
    "import collections\n",
    "counter=collections.Counter(position_list)\n",
    "print(counter.most_common())"
   ]
  },
  {
   "cell_type": "markdown",
   "metadata": {},
   "source": [
    "### draw a density map (passing time vs passing position)"
   ]
  },
  {
   "cell_type": "code",
   "execution_count": 40,
   "metadata": {},
   "outputs": [
    {
     "data": {
      "image/png": "[encoded data removed]",
      "text/plain": [
       "<Figure size 432x288 with 2 Axes>"
      ]
     },
     "metadata": {},
     "output_type": "display_data"
    }
   ],
   "source": [
    "import matplotlib.pyplot as plt\n",
    "import numpy as np\n",
    "\n",
    "plt.hist2d(passing_time_list, passing_position_list, bins=(35, 35), cmap=plt.cm.BuPu)\n",
    "plt.colorbar()\n",
    "plt.title('passing time & passing position')\n",
    "plt.xlabel('passing quarter')\n",
    "plt.ylabel('passing position')\n",
    "plt.show()"
   ]
  },
  {
   "cell_type": "markdown",
   "metadata": {},
   "source": [
    "### display predator vs prey count"
   ]
  },
  {
   "cell_type": "code",
   "execution_count": 204,
   "metadata": {},
   "outputs": [
    {
     "data": {
      "image/png": "[encoded data removed]",
      "text/plain": [
       "<Figure size 432x288 with 2 Axes>"
      ]
     },
     "metadata": {},
     "output_type": "display_data"
    }
   ],
   "source": [
    "# visualization 3\n",
    "import matplotlib.pyplot as plt\n",
    "import numpy, scipy, pylab, random\n",
    "import numpy as np\n",
    "\n",
    "axis_range = max(max(passed_count_list), max(passing_count_list))\n",
    "plt.plot(list(range(axis_range+1)), color = 'lightblue')\n",
    "plt.hist2d(passed_count_list, passing_count_list , bins=(40, 40), cmap=plt.cm.Reds)\n",
    "plt.colorbar()\n",
    "# add y = x to plot\n",
    "x = np.linspace(0,axis_range,1)\n",
    "y = x\n",
    "pylab.xlim([0,axis_range])\n",
    "pylab.ylim([0,axis_range])\n",
    "plt.xlabel('passed count')\n",
    "plt.ylabel('passing count')\n",
    "plt.title(\"Rossi Passing vs Passed by Race\")\n",
    "plt.show()"
   ]
  },
  {
   "cell_type": "markdown",
   "metadata": {},
   "source": [
    "### Repeat the same procedure on another rider"
   ]
  },
  {
   "cell_type": "code",
   "execution_count": 221,
   "metadata": {},
   "outputs": [],
   "source": [
    "# predator\n",
    "k = len(file_storage) # 80 files in total\n",
    "position_list = [] # store Rossi's all position\n",
    "passing_position_list = [] # store all his passing positions\n",
    "passing_time_list = [] # store all his passing time\n",
    "pair_list = []  # a pair of passing position vs time\n",
    "passing_count_list = [] # a list of counting the total number of passing for each race \n",
    "\n",
    "rider_number = 44 # try a single rider first, then try to generalize\n",
    "\n",
    "passed_position_track = [] # for prey\n",
    "passed_time_track = [] # for prey\n",
    "passed_count_list = [] # for prey\n",
    "\n",
    "for i in range(k):\n",
    "    df = file_storage[i]\n",
    "    total_laps = df.shape[1]\n",
    "    position_track = []\n",
    "    for j in range(total_laps):\n",
    "        if rider_number in list(df[j]): # check if the rider has already fell off\n",
    "            position_track.append(list(df[j]).index(rider_number)+1)\n",
    "    \n",
    "    passing_position_track = [] # passing position track\n",
    "    passing_time_track = [] # passing time track\n",
    "    \n",
    "    # predator\n",
    "    for l in range(len(position_track)-1):\n",
    "        fraction = l/total_laps\n",
    "        if position_track[l] > position_track[l+1]:\n",
    "            passing_position_track.append(position_track[l])\n",
    "            passing_time_track.append(lap_to_quarter(fraction))\n",
    "    position_list = position_list + position_track\n",
    "    passing_position_list = passing_position_list + passing_position_track\n",
    "    passing_time_list = passing_time_list + passing_time_track\n",
    "    pair_list = merge(passing_position_list, passing_time_list)\n",
    "    \n",
    "    passing_count_list.append(len(passing_position_track)) # count the number of passing in a race\n",
    "    \n",
    "    passed_position_track = []\n",
    "    passed_time_track = []\n",
    "    \n",
    "    # prey\n",
    "    for l in range(len(position_track)-1):\n",
    "        fraction = l/total_laps\n",
    "        if position_track[l] < position_track[l+1]:\n",
    "            passed_position_track.append(position_track[l])\n",
    "            passed_time_track.append(lap_to_quarter(fraction))\n",
    "    passed_count_list.append(len(passed_position_track))"
   ]
  },
  {
   "cell_type": "code",
   "execution_count": 41,
   "metadata": {},
   "outputs": [
    {
     "name": "stdout",
     "output_type": "stream",
     "text": [
      "[(3, 406), (2, 338), (4, 296), (1, 209), (5, 147), (6, 112), (8, 109), (9, 89), (7, 80), (10, 33), (11, 20), (12, 12), (13, 11), (18, 6), (19, 5), (14, 4), (15, 3), (16, 3), (21, 2), (26, 1), (17, 1), (22, 1)]\n"
     ]
    }
   ],
   "source": [
    "\n",
    "# count of elements in order.\n",
    "import collections\n",
    "counter=collections.Counter(position_list)\n",
    "print(counter.most_common())"
   ]
  },
  {
   "cell_type": "code",
   "execution_count": 231,
   "metadata": {},
   "outputs": [
    {
     "data": {
      "image/png": "[encoded data removed]",
      "text/plain": [
       "<Figure size 432x288 with 2 Axes>"
      ]
     },
     "metadata": {},
     "output_type": "display_data"
    }
   ],
   "source": [
    "# visualization 2\n",
    "import matplotlib.pyplot as plt\n",
    "import numpy as np\n",
    "\n",
    "plt.hist2d(passing_time_list, passing_position_list, bins=(35, 35), cmap=plt.cm.BuPu)\n",
    "plt.colorbar()\n",
    "plt.title(\"Pol Espargaro -- Passing (location vs time)\")\n",
    "plt.show()"
   ]
  },
  {
   "cell_type": "code",
   "execution_count": 227,
   "metadata": {},
   "outputs": [
    {
     "data": {
      "image/png": "[encoded data removed]",
      "text/plain": [
       "<Figure size 432x288 with 2 Axes>"
      ]
     },
     "metadata": {},
     "output_type": "display_data"
    }
   ],
   "source": [
    "# visualization 2\n",
    "import matplotlib.pyplot as plt\n",
    "import numpy, scipy, pylab, random\n",
    "import numpy as np\n",
    "\n",
    "axis_range = max(max(passed_count_list), max(passing_count_list))\n",
    "plt.plot(list(range(axis_range+1)), color = 'lightblue')\n",
    "plt.hist2d(passed_count_list, passing_count_list , bins=(40, 40), cmap=plt.cm.Reds)\n",
    "plt.colorbar()\n",
    "# add y = x to plot\n",
    "x = np.linspace(0,axis_range,1)\n",
    "y = x\n",
    "pylab.xlim([0,axis_range])\n",
    "pylab.ylim([0,axis_range])\n",
    "plt.xlabel('passed count')\n",
    "plt.ylabel('passing count')\n",
    "plt.title(\"Pol Espargaro (Passing vs Passed)\") # each dot represent the passing count vs passed count in a race\n",
    "plt.show()"
   ]
  }
 ],
 "metadata": {
  "kernelspec": {
   "display_name": "Python 3",
   "language": "python",
   "name": "python3"
  },
  "language_info": {
   "codemirror_mode": {
    "name": "ipython",
    "version": 3
   },
   "file_extension": ".py",
   "mimetype": "text/x-python",
   "name": "python",
   "nbconvert_exporter": "python",
   "pygments_lexer": "ipython3",
   "version": "3.6.4"
  }
 },
 "nbformat": 4,
 "nbformat_minor": 2
}
